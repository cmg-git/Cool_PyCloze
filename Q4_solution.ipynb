{
 "cells": [
  {
   "cell_type": "markdown",
   "metadata": {},
   "source": [
    "# Summer air conditioning: cooling & duhumidification\n",
    "# Graphical psychrometric analysis\n",
    "\n",
    "## 1. Problem\n",
    "\n",
    "An air-conditioning system, composed of a cooling coil an recirculated air,\n",
    "controls the indoor temperature at 26.0 °C and relative humidity at\n",
    "50 %.\n",
    "\n",
    "The outdoor conditions are: temperature 32.0 °C and relative humidity\n",
    "50 %.\n",
    "\n",
    "The mass flow rate of outdoor air is 1.00 kg/s.\n",
    "\n",
    "The overall heat transmitance (U-value) of the building is\n",
    "675 W/K and the mass flow rate of infiltration air is\n",
    "1.35 kg/s.\n",
    "\n",
    "The auxiliary sensible and latent loads of the thermal zone are\n",
    "34.0 kW and 4.0 kW respectively."
   ]
  },
  {
   "cell_type": "markdown",
   "metadata": {},
   "source": [
    "<img src=\"Figures/Quiz.png\" alt=\"quiz.png\" style=\"width: 600px;\"/>\n",
    "\n",
    "> Fig. 1. Screenshot of the Moodle quiz with filled in answers."
   ]
  },
  {
   "cell_type": "code",
   "execution_count": 20,
   "metadata": {},
   "outputs": [],
   "source": [
    "%reset -f\n",
    "\n",
    "import numpy as np\n",
    "import psychro as psy\n",
    "\n",
    "# constants\n",
    "c = 1e3         # J/kg K, air specific heat\n",
    "l = 2496e3      # J/kg, latent heat\n",
    "\n",
    "# Given data\n",
    "θI, φI = 26, 0.5            # °C, %, indoor air\n",
    "θo, φo = 32, 0.5            # °C, %, outdoor air\n",
    "mo = 1.00                   # kg/s, outdoor (fresh) air\n",
    "US, mi = 675, 1.35          # W/K, kg/s, overall conductiviti, infiltration\n",
    "Qsa, Qla = 34_000, 4_000    # W, W, sensible, latent auxiliary heat"
   ]
  },
  {
   "cell_type": "markdown",
   "metadata": {},
   "source": [
    "## 2. By-pass factor of the cooling coil is zero\n",
    "\n",
    "**Find:**\n",
    "\n",
    "- supply air mass flow rate\n",
    "{1:NUMERICAL:=3.00:0.2} ±0.2 kg/s ;\n",
    "\n",
    "- total load of the cooling coil\n",
    "{1:NUMERICAL:=-82.30:5} ±5 kW ;\n",
    "\n",
    "- apparatus dew point (ADP), i.e. the equivalent surface temperature of the\n",
    "cooling coil {1:NUMERICAL:=10.6:1.5} ±1.5 °C.\n",
    "\n",
    "\n",
    "---------------------------"
   ]
  },
  {
   "cell_type": "markdown",
   "metadata": {},
   "source": [
    "<img src=\"Figures/Diag_beta_0.pdf\" alt=\"Diag_beta_0.pdf\" style=\"width: 600px;\"/>\n",
    "\n",
    "> Fig. 2.a Bloc diagram of the model of the HVAC system: no by-pass, $\\beta = 0$."
   ]
  },
  {
   "cell_type": "markdown",
   "metadata": {},
   "source": [
    "**Solution**\n",
    "\n",
    "Find the sensible and latent loads of the thermal zone, $\\dot{Q}_{sTZ}$ and $\\dot{Q}_{lTZ}$: "
   ]
  },
  {
   "cell_type": "code",
   "execution_count": 2,
   "metadata": {},
   "outputs": [],
   "source": [
    "wo = psy.w(θo, φo)\n",
    "wI = psy.w(θI, φI)\n",
    "\n",
    "QsTZ = (US + mi * c) * (θo - θI) + Qsa  # W, sensible load thermal zone\n",
    "QlTZ = mi * l * (wo - wI) + Qla         # W, latent load thermal zone"
   ]
  },
  {
   "cell_type": "markdown",
   "metadata": {},
   "source": [
    "Find the intersection of supply air line (TZ-line) with the saturation curve:\n",
    "\n",
    "$$\\dot{m} c\\theta_s = \\dot{m} c \\theta_I + Q_{sTZ}$$\n",
    "$$\\dot{m} l w_s = \\dot{m} l w_I + Q_{lTZ}$$\n",
    "$$\\dot{m} c\\theta_s + Q_{sCC}= \\dot{m} c \\theta_I$$\n",
    "$$\\dot{m} l w_s + Q_{lCC}= \\dot{m} l w_I$$\n",
    "$$w' \\theta_s - w_s(\\theta_s) = w' \\theta_0 - w_s(\\theta_0)$$\n",
    "$$Q_{sCC} + Q_{lCC} - Q_{tCC} = 0$$\n",
    "\n",
    "6 equations, 6 unknowns: $\\dot{m}, \\theta_s, w_s, Q_{sCC}, Q_{lCC}, Q_{tCC}$"
   ]
  },
  {
   "cell_type": "markdown",
   "metadata": {},
   "source": [
    "Graphical solution:\n",
    "\n",
    "Search point *s* on the pshychrometric chart.\n",
    "Draw the supply air line (for the thermal zone) by finding a point (R) on the psychromeric chart:"
   ]
  },
  {
   "cell_type": "code",
   "execution_count": 3,
   "metadata": {},
   "outputs": [
    {
     "name": "stdout",
     "output_type": "stream",
     "text": [
      "(I): 26.0 °C, 10.5 g/kg\n",
      "(R): 40.0 °C, 12.8 g/kg\n"
     ]
    }
   ],
   "source": [
    "θR = 40\n",
    "wR = wI + QlTZ / QsTZ * c / l * (θR - θI)\n",
    "print(f'(I): {θI:.1f} °C, {1000 * wI:.1f} g/kg')\n",
    "print(f'(R): {θR:.1f} °C, {1000 * wR:.1f} g/kg')"
   ]
  },
  {
   "cell_type": "markdown",
   "metadata": {},
   "source": [
    "<img src=\"Figures/PsyC_supply_line.pdf\" alt=\"PsyC_supply_line.pdf\" style=\"width: 600px;\"/>\n",
    "\n",
    "> Fig. 2a. The intersection between the line of the supply line (thermal zone) and the saturation curve gives the Apparatus Dew Point (ADP) : 10.6 °C, 7.9 g/kg"
   ]
  },
  {
   "cell_type": "code",
   "execution_count": 4,
   "metadata": {},
   "outputs": [
    {
     "name": "stdout",
     "output_type": "stream",
     "text": [
      "Apparatus Dew Point (ADP) 10.6 °C, 7.95 g/kg\n"
     ]
    }
   ],
   "source": [
    "θs = 10.6   # °C, from psychrometric chart\n",
    "print(f'Apparatus Dew Point (ADP) {θs:.1f} °C, {1000 * psy.w(θs, 1):.2f} g/kg')"
   ]
  },
  {
   "cell_type": "code",
   "execution_count": 5,
   "metadata": {},
   "outputs": [
    {
     "name": "stdout",
     "output_type": "stream",
     "text": [
      "Mass flow rate of supply air: 3.00 kg/s\n"
     ]
    }
   ],
   "source": [
    "m = QsTZ / (c * (θI - θs))\n",
    "print(f'Mass flow rate of supply air: {m:.2f} kg/s')"
   ]
  },
  {
   "cell_type": "code",
   "execution_count": 6,
   "metadata": {},
   "outputs": [
    {
     "name": "stdout",
     "output_type": "stream",
     "text": [
      "Mixing point: 28.0 °C, 11.98 g/kg\n"
     ]
    }
   ],
   "source": [
    "mr = m - mo     # recirculated air\n",
    "θM = (mo * θo + mr * θI) / m\n",
    "wM = (mo * wo + mr * wI) / m\n",
    "print(f'Mixing point: {θM:.1f} °C, {1000 * wM:.2f} g/kg')"
   ]
  },
  {
   "cell_type": "code",
   "execution_count": 7,
   "metadata": {},
   "outputs": [
    {
     "name": "stdout",
     "output_type": "stream",
     "text": [
      "Total load of the cooling coil: -82.35 kW\n"
     ]
    }
   ],
   "source": [
    "QtCC = m * (c * (θs - θM) + l * (psy.w(θs, 1) - wM))\n",
    "print(f'Total load of the cooling coil: {QtCC / 1000:.2f} kW')"
   ]
  },
  {
   "cell_type": "markdown",
   "metadata": {},
   "source": [
    "<img src=\"Figures/PsyC_beta_0.pdf\" alt=\"PsyC_beta0.pdf\" style=\"width: 600px;\"/>\n",
    "\n",
    "> Fig. 2b. Representation of processes on the psychrmetric chart"
   ]
  },
  {
   "cell_type": "markdown",
   "metadata": {},
   "source": [
    "## 3. By-pass factor of the cooling coil is 0.16\n",
    "\n",
    "Find:\n",
    "\n",
    "- supply air mass flow rate\n",
    "{1:NUMERICAL:=3.53:0.2} ±0.2 kg/s ;\n",
    "\n",
    "- total load of the cooling coil\n",
    "{1:NUMERICAL:=-82.31:5} ±5 kW ;\n",
    "\n",
    "- apparatus dew point (ADP), i.e. the equivalent surface temperature of the\n",
    "cooling coil {1:NUMERICAL:=10.1:1.5} ±1.5 °C.\n",
    "\n",
    "-----------------"
   ]
  },
  {
   "cell_type": "markdown",
   "metadata": {},
   "source": [
    "<img src=\"Figures/Diag_beta_016.pdf\" alt=\"Diag_beta_016.pdf\" style=\"width: 600px;\"/>\n",
    "\n",
    "> Fig. 3.a Bloc diagram of the model of the HVAC system: fixed by-pass factor $\\beta \\neq 0$. "
   ]
  },
  {
   "cell_type": "markdown",
   "metadata": {},
   "source": [
    "**Solution**\n",
    "\n",
    "Since there is a by-pass, we expect the mass flow rate through the AHU, $\\dot{m}$, to be larger. Since the mass flow rate of fresh air, $\\dot{m}_o$, does not change, the mixing point, *M*, will be nearer the indoor point, *I*, than in the case of $\\beta = 0$. The by-pass air flow will be recirculated without changing the indoor condition. Let's make a guess:"
   ]
  },
  {
   "cell_type": "code",
   "execution_count": 8,
   "metadata": {},
   "outputs": [
    {
     "name": "stdout",
     "output_type": "stream",
     "text": [
      "Mixing point: 27.7 °C, 11.78 g/kg\n"
     ]
    }
   ],
   "source": [
    "β = 0.16\n",
    "\n",
    "m *= 1.16       # guess: mass flow rate increses by 16%\n",
    "mr = m - mo     # recirculated air\n",
    "θM = (mo * θo + mr * θI) / m\n",
    "wM = (mo * wo + mr * wI) / m\n",
    "print(f'Mixing point: {θM:.1f} °C, {1000 * wM:.2f} g/kg')"
   ]
  },
  {
   "cell_type": "markdown",
   "metadata": {},
   "source": [
    "Procedure:"
   ]
  },
  {
   "cell_type": "markdown",
   "metadata": {},
   "source": [
    "<img src=\"Figures/PsyC_beta_016a.pdf\" alt=\"PsyC_beta_016a.pdf\" style=\"width: 600px;\"/>\n",
    "\n",
    "> Fig. 3.b Draw a paralel to TZ-line that goes through the mixing point, *M*. Measure $\\Delta w$ betweent *M* and the TZ-line (on red). "
   ]
  },
  {
   "cell_type": "code",
   "execution_count": 9,
   "metadata": {},
   "outputs": [],
   "source": [
    "w1 = 13.75e-3\n",
    "Δw = w1 - wR"
   ]
  },
  {
   "cell_type": "markdown",
   "metadata": {},
   "source": [
    "The CC-line (E - s) needs to be cut by the parallels in teh ratio β:\n",
    "$$\\beta = \\frac{w_R - w_2}{w_1 - w_2}$$\n",
    "\n",
    "So,\n",
    "$$w_2 = \\frac{w_R - \\beta w_1}{1 - \\beta}$$"
   ]
  },
  {
   "cell_type": "code",
   "execution_count": 10,
   "metadata": {},
   "outputs": [
    {
     "name": "stdout",
     "output_type": "stream",
     "text": [
      "w2 = 12.63 g/kg\n"
     ]
    }
   ],
   "source": [
    "w2 = (wR - β * w1) / (1 - β)\n",
    "print(f'w2 = {1000 * w2:.2f} g/kg')"
   ]
  },
  {
   "cell_type": "markdown",
   "metadata": {},
   "source": [
    "<img src=\"Figures/PsyC_beta_016b.pdf\" alt=\"PsyC_beta_016b.pdf\" style=\"width: 600px;\"/>\n",
    "\n",
    "> Fig. 3.c Draw a parallel to TZ-line that passes through point *2*. The ADP is at the intersection of this line with the saturation curve."
   ]
  },
  {
   "cell_type": "markdown",
   "metadata": {},
   "source": [
    "<img src=\"Figures/PsyC_beta_016c.pdf\" alt=\"PsyC_beta016c.pdf\" style=\"width: 600px;\"/>\n",
    "\n",
    "> Fig. 3.d The supply air, *S*, is at the crosing of TZ-line (black) and CC-line (blue)."
   ]
  },
  {
   "cell_type": "code",
   "execution_count": 11,
   "metadata": {},
   "outputs": [],
   "source": [
    "#  From psychrometric chart\n",
    "θS = 12.8     # °C\n",
    "wS = 8.3e-3   # kg/kg"
   ]
  },
  {
   "cell_type": "code",
   "execution_count": 12,
   "metadata": {},
   "outputs": [
    {
     "name": "stdout",
     "output_type": "stream",
     "text": [
      "Supply air mass flow rate: 3.50 kg/s\n"
     ]
    }
   ],
   "source": [
    "m = QsTZ / (c * (θI - θS))\n",
    "print(f'Supply air mass flow rate: {m:.2f} kg/s')"
   ]
  },
  {
   "cell_type": "markdown",
   "metadata": {},
   "source": [
    "The initial guess was $\\dot{m} = 1.16$ kg/s. Check if the initial guess of the supply air mass flow rate was good:"
   ]
  },
  {
   "cell_type": "code",
   "execution_count": 13,
   "metadata": {},
   "outputs": [
    {
     "name": "stdout",
     "output_type": "stream",
     "text": [
      "The ratio betwen the mass flow rate with by-pass and without by-pass is 1.17\n"
     ]
    }
   ],
   "source": [
    "print(f'The ratio betwen the mass flow rate with by-pass and without by-pass is {m / 3.00:.2f}')"
   ]
  },
  {
   "cell_type": "code",
   "execution_count": 14,
   "metadata": {},
   "outputs": [
    {
     "name": "stdout",
     "output_type": "stream",
     "text": [
      "Total load of the cooling coil: -82.55 kW\n"
     ]
    }
   ],
   "source": [
    "QtCC = m * (c * (θS - θM) + l * (wS - wM))\n",
    "print(f'Total load of the cooling coil: {QtCC / 1000:.2f} kW')"
   ]
  },
  {
   "cell_type": "markdown",
   "metadata": {},
   "source": [
    "## 4. The supply air mass flow rate is 3.50 kg/s\n",
    "\n",
    "Find:\n",
    "\n",
    "- the by-pass factor\n",
    "{1:NUMERICAL:=0.15:0.05} ±0.05;\n",
    "\n",
    "- the total load of the cooling coil\n",
    "{1:NUMERICAL:=-82.31:5} ±5 kW;\n",
    "\n",
    "- apparatus dew point (ADP), i.e. the equivalent surface temperature of the\n",
    "cooling coil {1:NUMERICAL:=10.1:1.5} ±1.5 °C.\n",
    "\n",
    "-----------------"
   ]
  },
  {
   "cell_type": "markdown",
   "metadata": {},
   "source": [
    "<img src=\"Figures/Diag_m_35.pdf\" alt=\"Diag_m_35.pdf\" style=\"width: 600px;\"/>\n",
    "\n",
    "> Fig. 4.a Bloc diagram of the model of the HVAC system: fixed supply air mass flow rate $\\dot{m}$. "
   ]
  },
  {
   "cell_type": "markdown",
   "metadata": {},
   "source": [
    "**Solution**"
   ]
  },
  {
   "cell_type": "code",
   "execution_count": 15,
   "metadata": {},
   "outputs": [
    {
     "name": "stdout",
     "output_type": "stream",
     "text": [
      "Supply air temperature 12.8 °C\n"
     ]
    }
   ],
   "source": [
    "m = 3.5\n",
    "θS = θI - QsTZ / (m * c)\n",
    "wS = wI - QlTZ / (m * l)\n",
    "print(f'Supply air temperature {θS:.1f} °C')"
   ]
  },
  {
   "cell_type": "code",
   "execution_count": 16,
   "metadata": {},
   "outputs": [
    {
     "name": "stdout",
     "output_type": "stream",
     "text": [
      "Mixing point: 27.7 °C, 11.77 g/kg\n"
     ]
    }
   ],
   "source": [
    "mr = m - mo     # recirculated air\n",
    "θM = (mo * θo + mr * θI) / m\n",
    "wM = (mo * wo + mr * wI) / m\n",
    "print(f'Mixing point: {θM:.1f} °C, {1000 * wM:.2f} g/kg')"
   ]
  },
  {
   "cell_type": "markdown",
   "metadata": {},
   "source": [
    "Apparatus Dew Point (ADP) is on the saturation curve at the intersectio with the line of the Coling Coil which passses through mixing (M) and supply (S) points. "
   ]
  },
  {
   "cell_type": "markdown",
   "metadata": {},
   "source": [
    "<img src=\"Figures/PsyC_m_35a.pdf\" alt=\"PsyC_m_35a.pdf\" style=\"width: 600px;\"/>\n",
    "\n",
    "> Fig. 4.b Representation on the psychrometric chart"
   ]
  },
  {
   "cell_type": "code",
   "execution_count": 17,
   "metadata": {},
   "outputs": [
    {
     "name": "stdout",
     "output_type": "stream",
     "text": [
      "Apparatus Dew Point (ADP): 10.1 °C, 7.68 g/kg\n"
     ]
    }
   ],
   "source": [
    "θs = 10.1   # °C, from psychrometric chart\n",
    "print(f'Apparatus Dew Point (ADP): {θs:.1f} °C, {1000 * psy.w(θs, 1):.2f} g/kg')"
   ]
  },
  {
   "cell_type": "code",
   "execution_count": 18,
   "metadata": {},
   "outputs": [
    {
     "name": "stdout",
     "output_type": "stream",
     "text": [
      "By-pass factor 0.15\n"
     ]
    }
   ],
   "source": [
    "β = (θS - θs) / (θM - θs)\n",
    "print(f'By-pass factor {β:.2f}')"
   ]
  },
  {
   "cell_type": "code",
   "execution_count": 19,
   "metadata": {},
   "outputs": [
    {
     "name": "stdout",
     "output_type": "stream",
     "text": [
      "Total load of the cooling coil: -82.31 kW\n"
     ]
    }
   ],
   "source": [
    "QtCC = m * (c * (θS - θM) + l * (wS - wM))\n",
    "print(f'Total load of the cooling coil: {QtCC / 1000:.2f} kW')"
   ]
  },
  {
   "cell_type": "markdown",
   "metadata": {},
   "source": [
    "# Annex"
   ]
  },
  {
   "cell_type": "markdown",
   "metadata": {},
   "source": [
    "<img src=\"Figures/Elem_process.pdf\" alt=\"Elem_process.pdf\" style=\"width: 600px;\"/>\n",
    "\n",
    "> Fig. A. Elementary psychrometric processes."
   ]
  },
  {
   "cell_type": "code",
   "execution_count": null,
   "metadata": {},
   "outputs": [],
   "source": []
  }
 ],
 "metadata": {
  "kernelspec": {
   "display_name": "Python 3",
   "language": "python",
   "name": "python3"
  },
  "language_info": {
   "codemirror_mode": {
    "name": "ipython",
    "version": 3
   },
   "file_extension": ".py",
   "mimetype": "text/x-python",
   "name": "python",
   "nbconvert_exporter": "python",
   "pygments_lexer": "ipython3",
   "version": "3.8.5"
  }
 },
 "nbformat": 4,
 "nbformat_minor": 4
}
